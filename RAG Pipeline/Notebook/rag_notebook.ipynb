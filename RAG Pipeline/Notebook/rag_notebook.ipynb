{
 "cells": [
  {
   "cell_type": "code",
   "execution_count": 1,
   "metadata": {},
   "outputs": [],
   "source": [
    "import os\n",
    "from dotenv import load_dotenv\n",
    "load_dotenv()\n",
    "\n",
    "key=os.getenv(\"OPENAI_API_KEY\")"
   ]
  },
  {
   "cell_type": "markdown",
   "metadata": {},
   "source": [
    "# Data Ingestion"
   ]
  },
  {
   "cell_type": "code",
   "execution_count": 2,
   "metadata": {},
   "outputs": [
    {
     "data": {
      "text/plain": [
       "[Document(page_content='MEDITATION ACCORDING TO YOGA\\nWHAT IS MEDITATION?\\nWhat is meditation? Meditation is the power which enables us to resist\\nall this. Nature may call us, \"Look, there is a beautiful thing!\" I do not look.\\nNow she says, \"There is a beautiful smell; smell it!\" I say to my nose, \"Do not\\nsmell it\", and the nose doesn\\'t. \"Eyes, do not see!\" Nature does such an awful\\nthing - kills one of my children, and says, \"Now, rascal, sit down and weep! Go\\nto the depths!\" I say, \"I don\\'t have to.\" I jump up. I must be free. Try it\\nsometimes... [In meditation], for a moment, you can change this nature. Now,\\nif you had that power in yourself, would not that be heaven, freedom? That is\\nthe power of meditation.\\nHow is it to be attained? In a dozen different ways. Each temperament\\nhas its own way. But this is the general principle: get hold of the mind. The\\nmind is like a lake, and every stone that drops into it raises waves. These waves\\ndo not let us see what we are. The full moon is reflected in the water of the\\nlake, but the surface is so disturbed that we do not see the reflection clearly.\\nLet it be calm. Do not let nature raise the wave. Keep quiet, and then after a\\nlittle while she will give you up. Then we know what we are. God is there\\nalready, but the mind is so agitated, always running after the senses. You close\\nthe senses and [yet] you whirl and whirl about. Just this moment I think I am\\nall right and I will meditate upon God, and then my mind goes to London in\\none minute. And if I pull it away from there, it goes to New York to think about\\nthe things I have done there in the past. These [waves] are to be stopped by\\nthe power of meditation. (CW4.248)\\nTHE GATE TO BLISS\\nMeditation is the gate that opens that to us. Prayers, ceremonials, and all\\nthe other forms of worship are simply kindergartens of meditation. You pray, you\\noffer something. A certain theory existed that everything raised one\\'s spiritual\\npower. The use of certain words, flowers, images, temples, ceremonials like the\\nwaving of lights brings the mind to that attitude, but that attitude is always in the\\nhuman soul, nowhere else. [People] are all doing it; but what they do without\\nknowing it, do knowingly. That is the power of meditation.\\nSlowly and gradually we are to train ourselves. It is no joke - not a\\nquestion of a day, or years, or maybe of births. Never mind! The pull must go on.\\nKnowingly, voluntarily, the pull must go on. Inch by inch we will gain ground.\\nWe will begin to feel and get real possessions, which no one can take away from\\nus - the wealth that no man can take, the wealth that nobody can destroy, the joy\\nthat no misery can hurt any more. (CW 4.248-249)\\nIN SEARCH OF TRUTH\\nYoga is the science which teaches us how to get these perceptions. It is\\nnot much use to talk about religion until one has felt it. Why is there so much\\ndisturbance, so much fighting and quarrelling in the name of God? There has\\nbeen more bloodshed in the name of God than for any other cause, because\\npeople never went to the fountain-head; they were content only to give a mental\\nassent to the customs of their forefathers, and wanted others to do the same.\\nWhat right has a man to say he has a soul if he does not feel it, or that there is a\\nGod if he does not see Him? If there is a God we must see Him, if there is a soul\\nwe must perceive it; otherwise it is better not to believe. It is better to be an\\noutspoken atheist than a hypocrite.\\nMan wants truth, wants to experience truth for himself; when he has\\ngrasped it, realised it, felt it within his heart of hearts, then alone, declare the\\nVedas, would all doubts vanish, all darkness be scattered, and all crookedness be\\nmade straight. (CW 1.127-28)\\nHOW RESTLESS IS THE MIND!\\nHow hard it is to control the mind! Well has it been compared to the\\nmaddened monkey. There was a monkey, restless by his own nature, as all\\nmonkeys are. As if that were not enough someone made him drink freely of wine,\\nso that he became still more restless. Then a scorpion stung him. When a man is\\nstung by a scorpion, he jumps about for a whole day; so the poor monkey found\\nhis condition worse than ever. To complete his misery a demon entered into him.\\nWhat language can describe the uncontrollable restlessness of that monkey? The\\nhuman mind is like that monkey, incessantly active by its own nature; then it\\nbecomes drunk with the wine of desire, thus increasing its turbulence. After\\ndesire takes possession comes the sting of the scorpion of jealousy at the success\\nof others, and last of all the demon of pride enters the mind, making it think itself\\nof all importance. How hard to control such a mind! (CW 1.174)\\nA TREMONDOUS TASK\\nAccording to the Yogis, there are three principal nerve currents; one they\\ncall the Idâ, the other the Pingalâ, and the middle one the Sushumnâ, and all\\nthese are inside the spinal column. The Ida and the Pingala, the left and the right,\\nare clusters of nerves, while the middle one, the Sushumna, is hollow and is not\\na cluster of nerves. This Sushumna is closed, and for the ordinary man is of no\\nuse, for he works through the Ida and the Pingala only. Currents are continually \\n\\ngoing down and coming up through these nerves, carrying orders all over the\\nbody through other nerves running to the different organs of the body.\\nThe task before us is vast; and first and foremost, we must seek to control\\nthe vast mass of sunken thoughts which have become automatic with us. The\\nevil deed is, no doubt, on the conscious plane; but the cause which produced the\\nevil deed was far beyond in the realms of the unconscious, unseen, and therefore\\nmore potent.\\nThis is the first part of the study, the control of the unconscious. The next\\nis to go beyond the conscious. So, therefore, we see now that there must be a\\ntwofold work. First, by the proper working of the Ida and the Pingala, which are\\nthe two existing ordinary currents, to control the subconscious action; and\\nsecondly, to go beyond even consciousness.\\nHe alone is the Yogi who, after long practice in self-concentration, has\\nattained to this truth. The Sushumna now opens and a current which never\\nbefore entered into this new passage will find its way into it, and gradually ascend\\nto (what we call in figurative language) the different lotus centres, till at last it\\nreaches the brain. Then the Yogi becomes conscious of what he really is, God\\nHimself. (CW 2. 30, 34, 36)\\nENVIRONMENT FOR MEDITATION\\nThose of you who can afford it will do better to have a room for this\\npractice alone. Do not sleep in that room, it must be kept holy. You must not\\nenter the room until you have bathed, and are perfectly clean in body and mind.\\nPlace flowers in that room always; they are the best surroundings for a Yogi; also\\npictures that are pleasing. Burn incense morning and evening. Have no\\nquarrelling, nor anger, nor unholy thought in that room. Only allow those\\npersons to enter it who are of the same thought as you. Then gradually there will\\nbe an atmosphere of holiness in the room, so that when you are miserable,\\nsorrowful, doubtful, or your mind is disturbed, the very fact of entering that\\nroom will make you calm. This was the idea of the temple and the church, and in\\nsome temples and churches you will find it even now, but in the majority of them\\nthe very idea has been lost. The idea is that by keeping holy vibrations there the\\nplace becomes and remains illumined. Those who cannot afford to have a room\\nset apart can practise anywhere they like. (CW 1. 145)\\nREQUISITES FOR MEDITATION\\nWhere there is fire, or in water or on ground which is strewn with dry\\nleaves, where there are many ant-hills, where there are wild animals, or danger,\\nwhere four streets meet, where there is too much noise, where there are many\\nwicked persons, Yoga must not be practised. This applies more particularly to\\nIndia. Do not practise when the body feels very lazy or ill, or when the mind is\\nvery miserable and sorrowful. Go to a place which is well hidden, and where\\npeople do not come to disturb you. Do not choose dirty places. Rather choose\\nbeautiful scenery, or a room in your own house which is beautiful. When you\\npractise, first salute all the ancient Yogis, and your own Guru, and God, and then\\nbegin. (CW 1. 192)\\nTIME FOR MEDITATION\\nYou must practise at least twice every day, and the best times are towards\\nthe morning and the evening. When night passes into day, and day into night, a\\nstate of relative calmness ensues. The early morning and the early evening are\\nthe two periods of calmness. Your body will have a like tendency to become calm\\nat those times. We should take advantage of that natural condition and begin\\nthen to practise. Make it a rule not to eat until you have practised; if you do this,\\nthe sheer force of hunger will break your laziness. In India they teach children\\nnever to eat until they have practised or worshipped, and it becomes natural to\\nthem after a time; a boy will not feel hungry until he has bathed and practised.\\n(CW 1. 144-45)\\nNOW PRAY!\\nMentally repeat:\\nLet all beings be happy;\\nlet all beings be peaceful;\\nlet all beings be blissful.\\nSo do to the east, south, north and west. The more you do that the better\\nyou will feel yourself. You will find at last that the easiest way to make ourselves\\nhealthy is to see that others are healthy, and the easiest way to make ourselves\\nhappy is to see that others are happy. After doing that, those who believe in God\\nshould pray--not for money, not for health, nor for heaven; pray for knowledge\\nand light; every other prayer is selfish. (CW 1. 145-46)\\nTHE FIRST LESSON\\nSit for some time and let the mind run on. The mind is bubbling up all the\\ntime. It is like that monkey jumping about. Let the monkey jump as much as he\\ncan; you simply wait and watch. Knowledge is power, says the proverb, and that\\nis true. Until you know what the mind is doing you cannot control it. Give it the \\nrein; many hideous thoughts may come into it; you will be astonished that it was\\npossible for you to think such thoughts. But you will find that each day the mind\\'s\\nvagaries are becoming less and less violent, that each day it is becoming calmer.\\nGive up all argumentation and other distractions. Is there anything in dry\\nintellectual jargon? It only throws the mind off its balance and disturbs it. Things\\nof subtler planes have to be realised. Will talking do that? So give up all vain talk.\\nRead only those books which have been written by persons who have had\\nrealisation. (CW 1. 174, 176-77)\\nNOW THINK!\\nThink of your own body, and see that it is strong and healthy; it is the best\\ninstrument you have. Think of it as being as strong as adamant, and that with the\\nhelp of this body you will cross the ocean of life. Freedom is never to be reached\\nby the weak. Throw away all weakness. Tell your body that it is strong, tell your\\nmind that it is strong, and have unbounded faith and hope in yourself. (CW 1.\\n146)\\nA FEW EXAMPLES OF MEDITATION\\nImagine a lotus upon the top of the head, several inches up, with virtue\\nas its centre, and knowledge as its stalk. The eight petals of the lotus are the eight\\npowers of the Yogi. Inside, the stamens and pistils are renunciation. If the Yogi\\nrefuses the external powers he will come to salvation. So the eight petals of the\\nlotus are the eight powers, but the internal stamens and pistils are extreme\\nrenunciation, the renunciation of all these powers. Inside of that lotus think of\\nthe Golden One, the Almighty, the Intangible, He whose name is Om, the\\nInexpressible, surrounded with effulgent light. Meditate on that.\\nAnother meditation is given. Think of a space in your heart, and in the\\nmidst of that space think that a flame is burning. Think of that flame as your own\\nsoul and inside the flame is another effulgent light, and that is the Soul of your\\nsoul, God. Meditate upon that in the heart. (CW 1. 192-93)\\nHOW TO REACH THE GOAL\\nWhether you live or die does not matter. You have to plunge in and work,\\nwithout thinking of the result. If you are brave enough, in six months you will be\\na perfect Yogi. But those who take up just a bit of it and a little of everything else\\nmake no progress. It is of no use simply to take a course of lessons.\\nTo succeed, you must have tremendous perseverance, tremendous will.\\n\"I will drink the ocean,\" says the persevering soul, \"at my will mountains will\\ncrumble up.\" Have that sort of energy, that sort of will, work hard, and you will\\nreach the goal. (CW 1. 178)\\nBE CAREFUL!\\nEvery motion is in a circle. If you can take up a stone, and project it into\\nspace, and then live long enough, that stone, if it meets with no obstruction, will\\ncome back exactly to your hand. A straight line, infinitely projected, must end in\\na circle. Therefore, this idea that the destiny of man is progressing ever forward\\nand forward, and never stopping, is absurd. Although extraneous to the subject,\\nI may remark that this idea explains the ethical theory that you must not hate,\\nand must love. Because, just as in the case of electricity the modern theory is\\nthat the power leaves the dynamo and completes the circle back to the dynamo,\\nso with hate and love; they must come back to the source. Therefore do not hate\\nanybody, because that hatred which comes out from you, must, in the long run,\\ncome back to you. If you love, that love will come back to you, completing the\\ncircle. (CW 1. 196)\\nTHE MIND-LAKE\\nThe bottom of a lake we cannot see, because its surface is covered with\\nripples. It is only possible for us to catch a glimpse of the bottom, when the\\nripples have subsided, and the water is calm. If the water is muddy or is agitated\\nall the time, the bottom will not be seen. If it is clear, and there are no waves, we\\nshall see the bottom. The bottom of the lake is our own true Self; the lake is the\\nChitta and the waves the Vrittis.\\nAgain, the mind is in three states, one of which is darkness, called Tamas,\\nfound in brutes and idiots; it only acts to injure. No other idea comes into that\\nstate of mind. Then there is the active state of mind, Rajas, whose chief motives\\nare power and enjoyment. \"I will be powerful and rule others.\" Then there is the\\nstate called Sattva, serenity, calmness, in which the waves cease, and the water\\nof the mind-lake becomes clear. (CW 2. 202)\\nMIND AND ITS CONTROL\\nMeditation is one of the great means of controlling the rising of these\\nwaves. By meditation you can make the mind subdue these waves, and if you go\\non practising meditation for days, and months, and years, until it has become a\\nhabit, until it will come in spite of yourself, anger and hatred will be controlled\\nand checked. (CW 1. 242-43)\\nBE CHEERFUL!\\nThe first sign that you are becoming religious is that you are becoming\\ncheerful. When a man is gloomy, that may be dyspepsia, but it is not religion.To the Yogi everything is bliss, every human face that he sees brings\\ncheerfulness to him. That is the sign of a virtuous man. Misery is caused by sin,\\nand by no other cause. What business have you with clouded faces? It is terrible.\\nIf you have a clouded face, do not go out that day, shut yourself up in your room.\\nWhat right have you to carry this disease out into the world? (CW 1. 264-65)\\nTHE SIGNS OF A YOGI\\n\"He who hates none, who is the friend of all, who is merciful to all, who\\nhas nothing of his own, who is free from egoism, who is even-minded in pain and\\npleasure, who is forbearing, who is always satisfied, who works always in Yoga,\\nwhose self has become controlled, whose will is firm, whose mind and intellect\\nare given up unto Me, such a one is My beloved Bhakta. From whom comes no\\ndisturbance, who cannot be disturbed by others, who is free from joy, anger, fear,\\nand anxiety, such a one is My beloved. He who does not depend on anything,\\nwho is pure and active, who does not care whether good comes or evil, and never\\nbecomes miserable, who has given up all efforts for himself; who is the same in\\npraise or in blame, with a silent, thoughtful mind, blessed with what little comes\\nin his way, homeless, for the whole world is his home, and who is steady in his\\nideas, such a one is My beloved Bhakta.\" Such alone become Yogis. (CW 1. 193)\\nBE LIKE A PEARL OYSTER\\nThere is a pretty Indian fable to the effect that if it rains when the star\\nSvati is in the ascendant, and a drop of rain falls into an oyster, that drop becomes\\na pearl. The oysters know this, so they come to the surface when that star shines,\\nand wait to catch the precious raindrop. When a drop falls into them, quickly the\\noysters close their shells and dive down to the bottom of the sea, there to\\npatiently develop the drop into the pearl. We should be like that. First hear, then\\nunderstand, and then, leaving all distractions, shut your minds to outside\\ninfluences, and devote yourselves to developing the truth within you. (CW 1.\\n177)\\nPATIENCE\\nThere was a great god-sage called Narada. Just as there are sages among\\nmankind, great Yogis, so there are great Yogis among the gods. Narada was a\\ngood Yogi, and very great. He travelled everywhere. One day he was passing\\nthrough a forest, and saw a man who had been meditating until the white ants\\nhad built a huge mound round his body--so long had he been sitting in that\\nposition. He said to Narada, \"Where are you going?\" Narada replied, \"I am going\\nto heaven.\" \"Then ask God when He will be merciful to me; when I shall attain\\nfreedom.\" Further on Narada saw another man. He was jumping about, singing,\\ndancing, and said, \"Oh, Narada, where are you going?\" His voice and his gestures\\nwere wild. Narada said, \"I am going to heaven.\" \"Then, ask when I shall be free.\"\\nNarada went on. In the course of time he came again by the same road, and there\\nwas the man who had been meditating with the ant-hill round him. He said, \"Oh,\\nNarada, did you ask the Lord about me?\" \"Oh, yes.\" \"What did He say?\" \"The\\nLord told me that you would attain freedom in four more births.\" Then the man\\nbegan to weep and wail, and said, \"I have meditated until an ant-hill has grown\\naround me, and I have four more births yet!\" Narada went to the other man. \"Did\\nyou ask my question?\" \"Oh, yes. Do you see this tamarind tree? I have to tell you\\nthat as many leaves as there are on that tree, so many times, you shall be born,\\nand then you shall attain freedom.\" The man began to dance for joy, and said, \"I\\nshall have freedom after such a short time!\" A voice came, \"My child, you will\\nhave freedom this minute.\" That was the reward for his perseverance. He was\\nready to work through all those births, nothing discouraged him. (CW 1. 193-94)\\nIN THE REALM OF TRANQUILITY\\nThe greatest help to spiritual life is meditation (Dhyana). In meditation\\nwe divest ourselves of all material conditions and feel our divine nature. We do\\nnot depend upon any external help in meditation. The touch of the soul can paint\\nthe brightest colour even in the dingiest places; it can cast a fragrance over the\\nvilest thing; it can make the wicked divine--and all enmity, all selfishness is\\neffaced. The less the thought of the body, the better. For it is the body that drags\\nus down. It is attachment, identification, which makes us miserable. That is the\\nsecret: To think that I am the spirit and not the body, and that the whole of this\\nuniverse with all its relations, with all its good and all its evil, is but as a series of\\npaintings--scenes on a canvas--of which I am the witness. (CW 2. 37)\\nTRANSFORMATION THROUGH MEDITATION\\nThere was a young man that could not in any way support his family. He\\nwas strong and vigorous and, finally, became a highway robber; he attacked\\npersons in the street and robbed them, and with that money he supported his\\nfather, mother, wife, and children. This went on continually, until one day a great\\nsaint called Narada was passing by, and the robber attacked him.\\nThe sage asked the robber, \"Why are you going to rob me? It is a great\\nsin to rob human beings and kill them. What do you incur all this sin for?\" The\\nrobber said, \"Why, I want to support my family with this money.\" \"Now\", said the\\nsage, \"do you think that they take a share of your sin also?\" \"Certainly they do,\"\\nreplied the robber. \"Very good,\" said the sage, \"make me safe by tying me up \\nhere, while you go home and ask your people whether they will share your sin in\\nthe same way as they share the money you make.\" The man accordingly went to\\nhis father, and asked, \"Father, do you know how I support you?\" He answered,\\n\"No, I do not.\" \"I am a robber, and I kill persons and rob them.\" \"What! you do\\nthat, my son? Get away! You outcast!\" He then went to his mother and asked\\nher, \"Mother, do you know how I support you?\" \"No,\" she replied. \"Through\\nrobbery and murder.\" \"How horrible it is!\" cried the mother. \"But, do you partake\\nin my sin?\" said the son. \"Why should I? I never committed a robbery,\" answered\\nthe mother. Then, he went to his wife and questioned her, \"Do you know how I\\nmaintain you all?\" \"No,\" she responded. \"Why, I am a highwayman,\" he rejoined,\\n\"and for years have been robbing people; that is how I support and maintain you\\nall. And what I now want to know is, whether you are ready to share in my sin.\"\\n\"By no means. You are my husband, and it is your duty to support me.\"\\nThe eyes of the robber were opened. \"That is the way of the world--\\neven my nearest relatives, for whom I have been robbing, will not share in my\\ndestiny.\" He came back to the place where he had bound the sage, unfastened\\nhis bonds, fell at his feet, recounted everything and said, \"Save me! What can I\\ndo?\" The sage said, \"Give up your present course of life. You see that none of\\nyour family really loves you, so give up all these delusions. They will share your\\nprosperity; but the moment you have nothing, they will desert you. There is none\\nwho will share in your evil, but they will all share in your good. Therefore worship\\nHim who alone stands by us whether we are doing good or evil. He never leaves\\nus, for love never drags down, knows no barter, no selfishness.\"\\nThen the sage taught him how to worship. And this man left everything\\nand went into a forest. There he went on praying and meditating until he forgot\\nhimself so entirely that the ants came and built ant-hills around him, and he was\\nquite unconscious of it. After many years had passed, a voice came saying, \"Arise,\\nO sage!\" Thus aroused he exclaimed, \"Sage? I am a robber!\" \"No more \\'robber\\',\"\\nanswered the voice, \"a purified sage art thou. Thine old name is gone. But now,\\nsince thy meditation was so deep and great that thou didst not remark even the\\nant-hills which surrounded thee, henceforth, thy name shall be Valmiki--\\'he that\\nwas born in the ant-hill\\'.\" So, he became a sage. (CW 4. 63-65)', metadata={'source': 'speech.txt'})]"
      ]
     },
     "execution_count": 2,
     "metadata": {},
     "output_type": "execute_result"
    }
   ],
   "source": [
    "\n",
    "from langchain_community.document_loaders import TextLoader\n",
    "\n",
    "loader= TextLoader(\"speech.txt\")\n",
    "documents=loader.load()\n",
    "#documents"
   ]
  },
  {
   "cell_type": "code",
   "execution_count": 17,
   "metadata": {},
   "outputs": [],
   "source": [
    "# We can directly load from the webpage using webbase loader\n",
    "from langchain_community.document_loaders import WebBaseLoader\n",
    "import bs4\n",
    "\n",
    "url_path=(\"https://www.scotthyoung.com/blog/the-best-articles-on-life-philosophy/\",)\n",
    "loader=WebBaseLoader(web_paths=url_path,\n",
    "                     bs_kwargs=dict(parse_only=bs4.SoupStrainer(\n",
    "                          class_=(\"content\", \"entry-content\") # Hteml classes\n",
    "                     )),\n",
    "                    )\n",
    "text_document=loader.load()\n",
    "#text_document"
   ]
  },
  {
   "cell_type": "code",
   "execution_count": 19,
   "metadata": {},
   "outputs": [],
   "source": [
    "# PDF Reader\n",
    "\n",
    "from langchain_community.document_loaders import PyPDFLoader\n",
    "loader=PyPDFLoader(\"MEDITATION.pdf\")\n",
    "pdf_documents=loader.load()"
   ]
  },
  {
   "cell_type": "code",
   "execution_count": 21,
   "metadata": {},
   "outputs": [],
   "source": [
    "#pdf_documents"
   ]
  },
  {
   "cell_type": "markdown",
   "metadata": {},
   "source": [
    "# Creating Chunks\n"
   ]
  },
  {
   "cell_type": "code",
   "execution_count": 22,
   "metadata": {},
   "outputs": [],
   "source": [
    "from langchain.text_splitter import RecursiveCharacterTextSplitter\n",
    "text_splitter=RecursiveCharacterTextSplitter(chunk_size=1000,chunk_overlap=200)\n",
    "text_chunks=text_splitter.split_documents(pdf_documents)"
   ]
  },
  {
   "cell_type": "code",
   "execution_count": 24,
   "metadata": {},
   "outputs": [
    {
     "data": {
      "text/plain": [
       "[Document(page_content='MEDITATION  ACCORDING TO YOGA  \\nWHAT  IS MEDITATION?  \\nWhat is medita tion? Meditation is the power which enables us to resist \\nall this. Nature may call us, \"Look, there is a beautiful thing!\" I do not look. \\nNow she says, \"There is a beautiful smell; smell it!\" I say to my nose, \"Do not \\nsmell it\", and the nose doesn\\'t. \"Eyes , do not see!\" N ature does such an awful \\nthing - kills one of my children, and says, \"Now, rascal, sit down and weep! Go \\nto the depths!\" I say, \"I don\\'t have to.\" I jump up. I must be free. Try it \\nsometimes. .. [In meditation], for a moment, you can change this nature. Now, \\nif you had that power in yourself, would not that be heaven, freedom? That is \\nthe power of meditation.  \\nHow is it to be attained? In a dozen different ways. Each temperament \\nhas its own way. But this is the general principle: get hold of the mind. The \\nmind is like a lake, and every stone that drops into it raises waves. These waves', metadata={'source': 'MEDITATION.pdf', 'page': 0}),\n",
       " Document(page_content='has its own way. But this is the general principle: get hold of the mind. The \\nmind is like a lake, and every stone that drops into it raises waves. These waves \\ndo not let us see what we are. The full moon is reflected in the water of the \\nlake, but the surface is so disturbed that we do not see the reflection clearly. \\nLet it be calm. Do not let nature raise the wave. Keep quiet, and then after a \\nlittle while she will give you up. Then we know what we are. God is there \\nalready, but the mind is so agitated, always running after the senses. You close \\nthe senses and [yet] yo u whirl and whirl about. Just this moment I think I am \\nall right and I will meditate upon God, and then my mind goes to London in \\none minute. And if I pull it away from there, it goes to New York to think about \\nthe things I have done there in the past. The se [waves] are to be stopped by \\nthe power of meditation.  (CW4.248)', metadata={'source': 'MEDITATION.pdf', 'page': 0}),\n",
       " Document(page_content=\"THE GATE TO BLISS  \\nMeditation is the gate that opens that to us. Prayers, ceremonials, and all \\nthe other forms of worship are simply kindergartens of meditation. You pray, you \\noffer somethin g. A certain theory existed that everything raised one's spiritual \\npower. The use of certain words, flowers, images, temples, ceremonials like the \\nwaving of lights brings the mind to that attitude, but that attitude is always in the \\nhuman soul, nowhere els e. [People] are all doing it; but what they do without \\nknowing it, do knowingly. That is the power of meditation.  \\nSlowly and gradually we are to  train ourselves. It is no joke - not a \\nquestion of a day, or years, or maybe of births. Never mind! The pull mu st go on. \\nKnowingly, voluntarily, the pull must go on. Inch by inch we will gain ground. \\nWe will begin to feel and get real possessions, which no one can take away from \\nus - the wealth that no man can take, the wealth that nobody can destroy, the joy\", metadata={'source': 'MEDITATION.pdf', 'page': 1}),\n",
       " Document(page_content='We will begin to feel and get real possessions, which no one can take away from \\nus - the wealth that no man can take, the wealth that nobody can destroy, the joy \\nthat no misery can hurt any more. (CW 4.248 -249) \\nIN SEARCH OF TRUTH  \\nYoga is the science which teaches us how to get these perceptions. It is \\nnot much use to talk about religion until one has felt it. Why is there so much \\ndisturbance, so much fighting and quarrelling in the name of God? There has \\nbeen more bloodshed in the name of God than for any other cause, because \\npeople never went to the fountain -head; they were content only to give a mental \\nassent to the customs of their forefathers, and wanted others  to do the same. \\nWhat right has a man to say he has a soul if he does not feel it, or that there is a \\nGod if he does not see Him? If there is a God we must see Him, if there is a soul \\nwe must perceive it; otherwise it is better not to believe. It is better  to be an \\noutspoken atheist than a hypocrite.', metadata={'source': 'MEDITATION.pdf', 'page': 1})]"
      ]
     },
     "execution_count": 24,
     "metadata": {},
     "output_type": "execute_result"
    }
   ],
   "source": [
    "text_chunks[:4]"
   ]
  },
  {
   "cell_type": "markdown",
   "metadata": {},
   "source": [
    "# Vector Embedding & Vector Store"
   ]
  },
  {
   "cell_type": "markdown",
   "metadata": {},
   "source": [
    "# Chroma DB"
   ]
  },
  {
   "cell_type": "code",
   "execution_count": 25,
   "metadata": {},
   "outputs": [
    {
     "name": "stderr",
     "output_type": "stream",
     "text": [
      "c:\\Users\\arung\\anaconda3\\envs\\aiprojects\\Lib\\site-packages\\langchain_core\\_api\\deprecation.py:117: LangChainDeprecationWarning: The class `langchain_community.embeddings.openai.OpenAIEmbeddings` was deprecated in langchain-community 0.0.9 and will be removed in 0.2.0. An updated version of the class exists in the langchain-openai package and should be used instead. To use it run `pip install -U langchain-openai` and import as `from langchain_openai import OpenAIEmbeddings`.\n",
      "  warn_deprecated(\n"
     ]
    }
   ],
   "source": [
    "#openAI\n",
    "from langchain_community.embeddings import OpenAIEmbeddings\n",
    "from langchain.vectorstores import Chroma # this will act like Local DB we no need api key to store data\n",
    "\n",
    "db=Chroma.from_documents(text_chunks,OpenAIEmbeddings())"
   ]
  },
  {
   "cell_type": "code",
   "execution_count": 28,
   "metadata": {},
   "outputs": [],
   "source": [
    "# Now we can ask any query to retrieve the information but query should be releated to the pdf document\n",
    "query=\"What is meditations?\"\n",
    "response=db.similarity_search(query,k=2)\n"
   ]
  },
  {
   "cell_type": "code",
   "execution_count": 29,
   "metadata": {},
   "outputs": [
    {
     "data": {
      "text/plain": [
       "[Document(page_content=\"THE GATE TO BLISS  \\nMeditation is the gate that opens that to us. Prayers, ceremonials, and all \\nthe other forms of worship are simply kindergartens of meditation. You pray, you \\noffer somethin g. A certain theory existed that everything raised one's spiritual \\npower. The use of certain words, flowers, images, temples, ceremonials like the \\nwaving of lights brings the mind to that attitude, but that attitude is always in the \\nhuman soul, nowhere els e. [People] are all doing it; but what they do without \\nknowing it, do knowingly. That is the power of meditation.  \\nSlowly and gradually we are to  train ourselves. It is no joke - not a \\nquestion of a day, or years, or maybe of births. Never mind! The pull mu st go on. \\nKnowingly, voluntarily, the pull must go on. Inch by inch we will gain ground. \\nWe will begin to feel and get real possessions, which no one can take away from \\nus - the wealth that no man can take, the wealth that nobody can destroy, the joy\", metadata={'page': 1, 'source': 'MEDITATION.pdf'}),\n",
       " Document(page_content='MEDITATION  ACCORDING TO YOGA  \\nWHAT  IS MEDITATION?  \\nWhat is medita tion? Meditation is the power which enables us to resist \\nall this. Nature may call us, \"Look, there is a beautiful thing!\" I do not look. \\nNow she says, \"There is a beautiful smell; smell it!\" I say to my nose, \"Do not \\nsmell it\", and the nose doesn\\'t. \"Eyes , do not see!\" N ature does such an awful \\nthing - kills one of my children, and says, \"Now, rascal, sit down and weep! Go \\nto the depths!\" I say, \"I don\\'t have to.\" I jump up. I must be free. Try it \\nsometimes. .. [In meditation], for a moment, you can change this nature. Now, \\nif you had that power in yourself, would not that be heaven, freedom? That is \\nthe power of meditation.  \\nHow is it to be attained? In a dozen different ways. Each temperament \\nhas its own way. But this is the general principle: get hold of the mind. The \\nmind is like a lake, and every stone that drops into it raises waves. These waves', metadata={'page': 0, 'source': 'MEDITATION.pdf'})]"
      ]
     },
     "execution_count": 29,
     "metadata": {},
     "output_type": "execute_result"
    }
   ],
   "source": [
    "response # We got the 2 response one more option is avaliable to filter . using any one of the LLM model to filter results"
   ]
  },
  {
   "cell_type": "markdown",
   "metadata": {},
   "source": [
    "## FAISS vectordb"
   ]
  },
  {
   "cell_type": "code",
   "execution_count": 30,
   "metadata": {},
   "outputs": [],
   "source": [
    "from langchain_community.vectorstores import FAISS\n",
    "\n",
    "faiss_db=FAISS.from_documents(text_chunks,OpenAIEmbeddings())"
   ]
  },
  {
   "cell_type": "code",
   "execution_count": 32,
   "metadata": {},
   "outputs": [],
   "source": [
    "response=faiss_db.similarity_search(query,k=2)"
   ]
  },
  {
   "cell_type": "code",
   "execution_count": 33,
   "metadata": {},
   "outputs": [
    {
     "data": {
      "text/plain": [
       "[Document(page_content=\"THE GATE TO BLISS  \\nMeditation is the gate that opens that to us. Prayers, ceremonials, and all \\nthe other forms of worship are simply kindergartens of meditation. You pray, you \\noffer somethin g. A certain theory existed that everything raised one's spiritual \\npower. The use of certain words, flowers, images, temples, ceremonials like the \\nwaving of lights brings the mind to that attitude, but that attitude is always in the \\nhuman soul, nowhere els e. [People] are all doing it; but what they do without \\nknowing it, do knowingly. That is the power of meditation.  \\nSlowly and gradually we are to  train ourselves. It is no joke - not a \\nquestion of a day, or years, or maybe of births. Never mind! The pull mu st go on. \\nKnowingly, voluntarily, the pull must go on. Inch by inch we will gain ground. \\nWe will begin to feel and get real possessions, which no one can take away from \\nus - the wealth that no man can take, the wealth that nobody can destroy, the joy\", metadata={'source': 'MEDITATION.pdf', 'page': 1}),\n",
       " Document(page_content='MEDITATION  ACCORDING TO YOGA  \\nWHAT  IS MEDITATION?  \\nWhat is medita tion? Meditation is the power which enables us to resist \\nall this. Nature may call us, \"Look, there is a beautiful thing!\" I do not look. \\nNow she says, \"There is a beautiful smell; smell it!\" I say to my nose, \"Do not \\nsmell it\", and the nose doesn\\'t. \"Eyes , do not see!\" N ature does such an awful \\nthing - kills one of my children, and says, \"Now, rascal, sit down and weep! Go \\nto the depths!\" I say, \"I don\\'t have to.\" I jump up. I must be free. Try it \\nsometimes. .. [In meditation], for a moment, you can change this nature. Now, \\nif you had that power in yourself, would not that be heaven, freedom? That is \\nthe power of meditation.  \\nHow is it to be attained? In a dozen different ways. Each temperament \\nhas its own way. But this is the general principle: get hold of the mind. The \\nmind is like a lake, and every stone that drops into it raises waves. These waves', metadata={'source': 'MEDITATION.pdf', 'page': 0})]"
      ]
     },
     "execution_count": 33,
     "metadata": {},
     "output_type": "execute_result"
    }
   ],
   "source": [
    "response"
   ]
  },
  {
   "cell_type": "code",
   "execution_count": null,
   "metadata": {},
   "outputs": [],
   "source": []
  }
 ],
 "metadata": {
  "kernelspec": {
   "display_name": "aiprojects",
   "language": "python",
   "name": "python3"
  },
  "language_info": {
   "codemirror_mode": {
    "name": "ipython",
    "version": 3
   },
   "file_extension": ".py",
   "mimetype": "text/x-python",
   "name": "python",
   "nbconvert_exporter": "python",
   "pygments_lexer": "ipython3",
   "version": "3.12.2"
  }
 },
 "nbformat": 4,
 "nbformat_minor": 2
}
